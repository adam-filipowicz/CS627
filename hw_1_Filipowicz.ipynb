{
 "cells": [
  {
   "cell_type": "markdown",
   "metadata": {},
   "source": [
    "# hw-1\n",
    "## Adam Filipowicz 4/11/20\n",
    "For this first homework assignment in CS627: Data Science Programming I will be exploring some climate change and food scarcity data using python. This analysis was inspired by [this article](https://towardsdatascience.com/climate-change-and-food-scarcity-in-developing-regions-an-analysis-in-python-d8ca5ec5f496) by Dr. Sadrach Pierre. Global temperature data was pulled from [DataHub](https://datahub.io/collections/climate-change) and crop yield data was acquired from [Our World in Data](https://ourworldindata.org/crop-yields). Climate models are a complex system of differential equations incorporating basic laws of physics, fluid motion, and chemistry. ![Global Atmospheric Model](https://upload.wikimedia.org/wikipedia/commons/b/b1/Global_Climate_Model.png)\n",
    "\n",
    "A very simple model of the radiative equilibrium of the Earth is: $$(1-a)S\\pi r^2 = 4\\pi r^2\\epsilon\\sigma T^4$$\n",
    "\n",
    "However, in this notebook we'll just be doing some exploratory data analysis of publically available data, not messing with any models. We'll begin by importing Pandas in order to read our datasets:"
   ]
  },
  {
   "cell_type": "code",
   "execution_count": 1,
   "metadata": {},
   "outputs": [],
   "source": [
    "import pandas as pd"
   ]
  },
  {
   "cell_type": "markdown",
   "metadata": {},
   "source": [
    "Then, let's read in the annual global temperature dataset and print the first five rows:"
   ]
  },
  {
   "cell_type": "code",
   "execution_count": 2,
   "metadata": {},
   "outputs": [
    {
     "name": "stdout",
     "output_type": "stream",
     "text": [
      "    Source  Year    Mean\n",
      "0     GCAG  2016  0.9363\n",
      "1  GISTEMP  2016  0.9900\n",
      "2     GCAG  2015  0.8998\n",
      "3  GISTEMP  2015  0.8700\n",
      "4     GCAG  2014  0.7408\n"
     ]
    }
   ],
   "source": [
    "df_global_temp = pd.read_csv(\"annual_temp.csv\")\n",
    "print(df_global_temp.head())"
   ]
  },
  {
   "cell_type": "markdown",
   "metadata": {},
   "source": [
    "Let's just use the NASA GISTEMP data. We'll have to filter our data to do that:"
   ]
  },
  {
   "cell_type": "code",
   "execution_count": 3,
   "metadata": {},
   "outputs": [
    {
     "name": "stdout",
     "output_type": "stream",
     "text": [
      "    Source  Year  Mean\n",
      "0  GISTEMP  2016  0.99\n",
      "1  GISTEMP  2015  0.87\n",
      "2  GISTEMP  2014  0.74\n",
      "3  GISTEMP  2013  0.65\n",
      "4  GISTEMP  2012  0.63\n"
     ]
    }
   ],
   "source": [
    "df_global_temp = df_global_temp[df_global_temp['Source'] == 'GISTEMP'].reset_index()[[\"Source\", \"Year\", \"Mean\"]]\n",
    "print(df_global_temp.head())"
   ]
  },
  {
   "cell_type": "markdown",
   "metadata": {},
   "source": [
    "Looking good! What does the tail look like?"
   ]
  },
  {
   "cell_type": "code",
   "execution_count": 4,
   "metadata": {},
   "outputs": [
    {
     "name": "stdout",
     "output_type": "stream",
     "text": [
      "      Source  Year  Mean\n",
      "132  GISTEMP  1884 -0.28\n",
      "133  GISTEMP  1883 -0.21\n",
      "134  GISTEMP  1882 -0.10\n",
      "135  GISTEMP  1881 -0.12\n",
      "136  GISTEMP  1880 -0.20\n"
     ]
    }
   ],
   "source": [
    "print(df_global_temp.tail())"
   ]
  },
  {
   "cell_type": "markdown",
   "metadata": {},
   "source": [
    "So, looks like our data goes from 1880 to 2016. Alright, we'll now use matplotlib to make a line plot of temperature vs. time. We'll also add a horizontal line at the base period that the temperatures are compared to (0)."
   ]
  },
  {
   "cell_type": "code",
   "execution_count": 5,
   "metadata": {},
   "outputs": [
    {
     "data": {
      "image/png": "[encoded data removed]",
      "text/plain": [
       "<Figure size 432x288 with 1 Axes>"
      ]
     },
     "metadata": {
      "needs_background": "light"
     },
     "output_type": "display_data"
    }
   ],
   "source": [
    "import matplotlib.pyplot as plt\n",
    "plt.plot(df_global_temp['Year'], df_global_temp['Mean'], '-o', color='black')\n",
    "plt.hlines(y=0, xmin=1880, xmax=2016, color='blue')\n",
    "plt.xlabel(\"Year\")\n",
    "plt.ylabel(\"Mean\")\n",
    "plt.title(\"Average Global Mean Temperature\")\n",
    "plt.show()"
   ]
  },
  {
   "cell_type": "markdown",
   "metadata": {},
   "source": [
    "The article linked above provides evidence that \"if we don't tackle the issue of climate change quickly, ecosystems will continue to be disrupted...and crop yields (food production) will decrease. Along those lines, let's take a look at annual global production of rice. We'll begin by reading in the 'rice-yield.csv' dataset from Our World in Data:"
   ]
  },
  {
   "cell_type": "code",
   "execution_count": 6,
   "metadata": {},
   "outputs": [
    {
     "data": {
      "text/html": [
       "<div>\n",
       "<style scoped>\n",
       "    .dataframe tbody tr th:only-of-type {\n",
       "        vertical-align: middle;\n",
       "    }\n",
       "\n",
       "    .dataframe tbody tr th {\n",
       "        vertical-align: top;\n",
       "    }\n",
       "\n",
       "    .dataframe thead th {\n",
       "        text-align: right;\n",
       "    }\n",
       "</style>\n",
       "<table border=\"1\" class=\"dataframe\">\n",
       "  <thead>\n",
       "    <tr style=\"text-align: right;\">\n",
       "      <th></th>\n",
       "      <th>Entity</th>\n",
       "      <th>Code</th>\n",
       "      <th>Year</th>\n",
       "      <th>(tonnes per hectare)</th>\n",
       "    </tr>\n",
       "  </thead>\n",
       "  <tbody>\n",
       "    <tr>\n",
       "      <th>0</th>\n",
       "      <td>Afghanistan</td>\n",
       "      <td>AFG</td>\n",
       "      <td>1961</td>\n",
       "      <td>1.0831</td>\n",
       "    </tr>\n",
       "    <tr>\n",
       "      <th>1</th>\n",
       "      <td>Afghanistan</td>\n",
       "      <td>AFG</td>\n",
       "      <td>1962</td>\n",
       "      <td>1.0480</td>\n",
       "    </tr>\n",
       "    <tr>\n",
       "      <th>2</th>\n",
       "      <td>Afghanistan</td>\n",
       "      <td>AFG</td>\n",
       "      <td>1963</td>\n",
       "      <td>0.9548</td>\n",
       "    </tr>\n",
       "    <tr>\n",
       "      <th>3</th>\n",
       "      <td>Afghanistan</td>\n",
       "      <td>AFG</td>\n",
       "      <td>1964</td>\n",
       "      <td>1.0461</td>\n",
       "    </tr>\n",
       "    <tr>\n",
       "      <th>4</th>\n",
       "      <td>Afghanistan</td>\n",
       "      <td>AFG</td>\n",
       "      <td>1965</td>\n",
       "      <td>1.0621</td>\n",
       "    </tr>\n",
       "  </tbody>\n",
       "</table>\n",
       "</div>"
      ],
      "text/plain": [
       "        Entity Code  Year  (tonnes per hectare)\n",
       "0  Afghanistan  AFG  1961                1.0831\n",
       "1  Afghanistan  AFG  1962                1.0480\n",
       "2  Afghanistan  AFG  1963                0.9548\n",
       "3  Afghanistan  AFG  1964                1.0461\n",
       "4  Afghanistan  AFG  1965                1.0621"
      ]
     },
     "execution_count": 6,
     "metadata": {},
     "output_type": "execute_result"
    }
   ],
   "source": [
    "df_rice = pd.read_csv(\"rice-yields.csv\")\n",
    "df_rice.head()"
   ]
  },
  {
   "cell_type": "markdown",
   "metadata": {},
   "source": [
    "We have an 'Entity' column for the countries, a 'Year' column and a '(tonnes per hectare)' column. What are all the countries represented in the data?"
   ]
  },
  {
   "cell_type": "code",
   "execution_count": 7,
   "metadata": {},
   "outputs": [
    {
     "name": "stdout",
     "output_type": "stream",
     "text": [
      "{'Bosnia and Herzegovina', 'Bhutan', 'Serbia', 'Swaziland', 'Gambia', 'Brunei', 'France', 'Pakistan', 'Yugoslavia', 'Asia, Central', 'Liberia', 'Burundi', 'Americas', 'Saudi Arabia', 'Guyana', 'Northern Africa', 'Philippines', 'South Africa', 'Chad', 'Gabon', 'Northern America', 'Serbia and Montenegro', 'Senegal', 'Luxembourg', 'Turkey', 'Europe', 'Vanuatu', 'Canada', 'Puerto Rico', 'Nicaragua', 'United Kingdom', 'Guinea-Bissau', 'Eritrea', 'Southern Europe', 'Kuwait', 'Namibia', 'Guam', 'Germany', 'Palestine', 'Belgium', 'Malawi', 'Argentina', 'Portugal', 'Armenia', 'Western Asia', 'Eastern Asia', 'Mongolia', 'United States', 'Iran', 'Micronesia (country)', 'Barbados', 'Georgia', 'Czechoslovakia', 'Europe, Western', 'Sao Tome and Principe', 'Myanmar', 'Egypt', 'Mauritius', 'Mexico', 'New Caledonia', 'Zambia', 'Thailand', 'Timor', 'Moldova', 'Bolivia', 'Ireland', 'Oceania', 'Central African Republic', 'Bangladesh', 'Middle Africa', 'Tunisia', 'United Arab Emirates', 'Trinidad and Tobago', 'Ecuador', 'Kazakhstan', 'Syria', 'Grenada', 'Zimbabwe', 'Guinea', 'Uruguay', 'Sudan', 'Russia', 'Low Income Food Deficit Countries', 'USSR', 'Lesotho', 'Tajikistan', 'Venezuela', 'Jordan', 'Southern Africa', 'Maldives', 'Yemen', 'Comoros', 'Peru', 'China', 'Taiwan', 'Burkina Faso', 'Tanzania', 'Costa Rica', 'Iraq', 'Estonia', 'Brazil', 'Chile', 'Cambodia', 'Ethiopia PDR', 'Northern Europe', 'Togo', 'Rwanda', 'Netherlands', 'Small island developing States', 'Micronesia (region)', 'Uganda', 'Panama', 'Turkmenistan', 'Ukraine', 'Angola', 'Fiji', 'Latvia', 'Uzbekistan', 'South Sudan', 'Cuba', 'Vietnam', 'Net Food Importing Developing Countries', 'South Eastern Asia', 'Belarus', 'Southern Asia', 'Ghana', 'Kyrgyzstan', 'Paraguay', 'Italy', 'Djibouti', 'Finland', 'Africa', 'Croatia', 'Honduras', 'Saint Vincent and the Grenadines', 'Somalia', 'Albania', 'Colombia', 'Congo', 'Romania', 'New Zealand', 'Slovakia', 'Guadeloupe', \"Cote d'Ivoire\", 'Land Locked Developing Countries', 'Spain', 'El Salvador', 'Sri Lanka', 'Dominican Republic', 'Japan', 'Mauritania', 'Norway', 'Azerbaijan', 'Democratic Republic of Congo', 'Eastern Africa', 'Guatemala', 'Laos', 'Niger', 'Sudan (former)', 'Bulgaria', 'South America', 'Mozambique', 'Benin', 'Melanesia', 'Oman', 'Jamaica', 'Poland', 'Suriname', 'Central America', 'Saint Lucia', 'Israel', 'French Guiana', 'Iceland', 'Eastern Europe', 'Greece', 'Belize', 'Sierra Leone', 'World', 'Cyprus', 'Australia', 'Mali', 'Slovenia', 'Indonesia', 'Western Sahara', 'Antigua and Barbuda', 'Belgium-Luxembourg', 'Madagascar', 'Lebanon', 'Libya', 'Switzerland', 'Caribbean', 'Ethiopia', 'Denmark', 'Montenegro', 'Least Developed Countries', 'Algeria', 'Lithuania', 'Nepal', 'Malaysia', 'Solomon Islands', 'North Korea', 'European Union', 'Afghanistan', 'Cape Verde', 'Hong Kong', 'India', 'Czech Republic', 'Australia & New Zealand', 'Macedonia', 'Nigeria', 'Kenya', 'Haiti', 'Hungary', 'Dominica', 'Morocco', 'Papua New Guinea', 'Reunion', 'Qatar', 'Montserrat', 'Bahamas', 'Pacific Islands Trust Territory', 'Malta', 'South Korea', 'Asia', 'Cameroon', 'Sweden', 'Austria', 'Botswana', 'Western Africa'}\n",
      "NUMBER OF REGIONS:  229\n"
     ]
    }
   ],
   "source": [
    "from collections import Counter\n",
    "print(set(df_rice['Entity'].values))\n",
    "print(\"NUMBER OF REGIONS: \", len(set(df_rice['Entity'].values)))"
   ]
  },
  {
   "cell_type": "markdown",
   "metadata": {},
   "source": [
    "That's a lot! Some are actually whole continents like 'Oceania' and 'South America'. What if we wanted to create a dropdown to select a specific region?"
   ]
  },
  {
   "cell_type": "code",
   "execution_count": 8,
   "metadata": {},
   "outputs": [],
   "source": [
    "from ipywidgets import interact, interactive, fixed, interact_manual"
   ]
  },
  {
   "cell_type": "code",
   "execution_count": 9,
   "metadata": {},
   "outputs": [
    {
     "data": {
      "application/vnd.jupyter.widget-view+json": {
       "model_id": "23bd2050f1f1406e98b123aff0de4dc1",
       "version_major": 2,
       "version_minor": 0
      },
      "text/plain": [
       "interactive(children=(Dropdown(description='Region', options=('Bosnia and Herzegovina', 'Bhutan', 'Serbia', 'S…"
      ]
     },
     "metadata": {},
     "output_type": "display_data"
    }
   ],
   "source": [
    "def list_of_regions(Region=set(df_rice['Entity'].values)):\n",
    "    print(df_rice[df_rice['Entity']==Region].head())\n",
    "    \n",
    "rice_country_dropdown = interactive(list_of_regions)\n",
    "rice_country_dropdown"
   ]
  },
  {
   "cell_type": "markdown",
   "metadata": {},
   "source": [
    "Let's use that as a base to select a specific region and then plot annual rice production for that region:"
   ]
  },
  {
   "cell_type": "code",
   "execution_count": 10,
   "metadata": {},
   "outputs": [
    {
     "data": {
      "application/vnd.jupyter.widget-view+json": {
       "model_id": "4321f16609cd4e84be081449fbcf4696",
       "version_major": 2,
       "version_minor": 0
      },
      "text/plain": [
       "interactive(children=(Dropdown(description='Region', options=('Bosnia and Herzegovina', 'Bhutan', 'Serbia', 'S…"
      ]
     },
     "metadata": {},
     "output_type": "display_data"
    }
   ],
   "source": [
    "def rice_production_plot(Region=set(df_rice['Entity'].values)):\n",
    "    plt.plot(df_rice[df_rice['Entity']==Region]['Year'], df_rice[df_rice['Entity']==Region]['(tonnes per hectare)']);\n",
    "    plt.xlabel(\"Year\")\n",
    "    plt.ylabel(\"Rice Production (tonnes per hectare)\")\n",
    "    plt.title(\"Annual Rice Production\")\n",
    "annual_rice_production = interactive(rice_production_plot)\n",
    "annual_rice_production"
   ]
  }
 ],
 "metadata": {
  "kernelspec": {
   "display_name": "Python 3",
   "language": "python",
   "name": "python3"
  },
  "language_info": {
   "codemirror_mode": {
    "name": "ipython",
    "version": 3
   },
   "file_extension": ".py",
   "mimetype": "text/x-python",
   "name": "python",
   "nbconvert_exporter": "python",
   "pygments_lexer": "ipython3",
   "version": "3.7.6"
  }
 },
 "nbformat": 4,
 "nbformat_minor": 4
}
